{
 "cells": [
  {
   "cell_type": "markdown",
   "id": "6f905e5c",
   "metadata": {},
   "source": [
    "# Gun Image Classification with CNNs\n",
    "### Eric Au & Henry Chung\n",
    "test\n",
    "\n",
    "<img src=\"\" width=\"500\" length = \"200\"/>\n",
    "\n",
    "Source: <a href=\"\">PAUL CAMPBELL/GETTY IMAGES\n",
    "</a>"
   ]
  },
  {
   "cell_type": "markdown",
   "id": "1d019017",
   "metadata": {},
   "source": [
    "## 1. Business and Data Understanding\n",
    "\n",
    "**Stakeholders:** Instagram, Police Officials\n",
    "\n",
    "Is there a way to detect potentially dangerous individuals by image recognition? \n",
    "\n",
    "- Why is this technology important? \n",
    "- Where is gun violence in America most prevalent? \n",
    "- Has there been an increase in gun violence? Are there trends we are seeing over time? \n",
    "\n",
    "Data Source: \n",
    "\n",
    "**The Task: Perform an analysis on gun violence in the United States and create a machine learning model that can classify images of guns and other weapons. The intention is to proactively detect potentially dangerous individuals on social media and for authorities to respond appropriately.** "
   ]
  },
  {
   "cell_type": "markdown",
   "id": "2c47ef58",
   "metadata": {},
   "source": [
    "2. Data Preparation"
   ]
  },
  {
   "cell_type": "code",
   "execution_count": null,
   "id": "467681c2",
   "metadata": {},
   "outputs": [],
   "source": []
  },
  {
   "cell_type": "code",
   "execution_count": null,
   "id": "d5fc4c68",
   "metadata": {},
   "outputs": [],
   "source": []
  },
  {
   "cell_type": "code",
   "execution_count": null,
   "id": "aec4302b",
   "metadata": {},
   "outputs": [],
   "source": []
  },
  {
   "cell_type": "code",
   "execution_count": null,
   "id": "0a41d595",
   "metadata": {},
   "outputs": [],
   "source": []
  },
  {
   "cell_type": "code",
   "execution_count": null,
   "id": "90684244",
   "metadata": {},
   "outputs": [],
   "source": []
  },
  {
   "cell_type": "code",
   "execution_count": null,
   "id": "06561711",
   "metadata": {},
   "outputs": [],
   "source": []
  },
  {
   "cell_type": "code",
   "execution_count": null,
   "id": "8b555a62",
   "metadata": {},
   "outputs": [],
   "source": []
  },
  {
   "cell_type": "code",
   "execution_count": null,
   "id": "24e3eb0f",
   "metadata": {},
   "outputs": [],
   "source": []
  },
  {
   "cell_type": "code",
   "execution_count": null,
   "id": "d7cb0dfd",
   "metadata": {},
   "outputs": [],
   "source": []
  },
  {
   "cell_type": "code",
   "execution_count": null,
   "id": "3ac80a84",
   "metadata": {},
   "outputs": [],
   "source": []
  },
  {
   "cell_type": "code",
   "execution_count": null,
   "id": "3528f58d",
   "metadata": {},
   "outputs": [],
   "source": []
  }
 ],
 "metadata": {
  "kernelspec": {
   "display_name": "Python 3 (ipykernel)",
   "language": "python",
   "name": "python3"
  },
  "language_info": {
   "codemirror_mode": {
    "name": "ipython",
    "version": 3
   },
   "file_extension": ".py",
   "mimetype": "text/x-python",
   "name": "python",
   "nbconvert_exporter": "python",
   "pygments_lexer": "ipython3",
   "version": "3.10.4"
  }
 },
 "nbformat": 4,
 "nbformat_minor": 5
}
