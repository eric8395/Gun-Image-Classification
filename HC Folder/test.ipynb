{
 "cells": [
  {
   "cell_type": "code",
   "execution_count": 533,
   "id": "0af663c9",
   "metadata": {},
   "outputs": [],
   "source": [
    "import pandas as pd\n",
    "import matplotlib.pyplot as plt"
   ]
  },
  {
   "cell_type": "code",
   "execution_count": 534,
   "id": "e8134932",
   "metadata": {},
   "outputs": [],
   "source": [
    "#file_path = \"\\\\Users\\\\eggfr\\\\Flatiron\\\\Flatiron_phase4_project\\\\Gun_Image_Classification\\\\HC_folder\\\\data\\\\GunViolenceArchiveDataJan2014toJun2022.csv\""
   ]
  },
  {
   "cell_type": "code",
   "execution_count": 535,
   "id": "3fe8b7bc",
   "metadata": {},
   "outputs": [],
   "source": [
    "file_path3 =\"\\\\Users\\\\eggfr\\\\Flatiron\\\\Flatiron_phase4_project\\\\Gun-Image-Classification\\\\HC Folder\\\\data\\\\GunViolenceArchiveDataJan2014toJun2022.csv\""
   ]
  },
  {
   "cell_type": "markdown",
   "id": "5340ed8f",
   "metadata": {},
   "source": [
    "Gun Violence Archive (GVA) is a not for profit corporation formed in 2013 to provide free online public access to accurate information about gun-related violence in the United States. GVA will collect and check for accuracy, comprehensive information about gun-related violence in the U.S. and then post and disseminate it online"
   ]
  },
  {
   "cell_type": "code",
   "execution_count": 536,
   "id": "8e70e11f",
   "metadata": {},
   "outputs": [
    {
     "data": {
      "text/plain": [
       "(448402, 8)"
      ]
     },
     "execution_count": 536,
     "metadata": {},
     "output_type": "execute_result"
    }
   ],
   "source": [
    "gun_data_raw_df = pd.read_csv(file_path3, encoding= 'unicode_escape')\n",
    "gun_data_raw_df.shape"
   ]
  },
  {
   "cell_type": "code",
   "execution_count": 537,
   "id": "630077c3",
   "metadata": {},
   "outputs": [
    {
     "data": {
      "text/plain": [
       "(448402, 8)"
      ]
     },
     "execution_count": 537,
     "metadata": {},
     "output_type": "execute_result"
    }
   ],
   "source": [
    "gun_data_raw_df.shape\n"
   ]
  },
  {
   "cell_type": "code",
   "execution_count": 538,
   "id": "b27e408b",
   "metadata": {
    "scrolled": true
   },
   "outputs": [
    {
     "data": {
      "text/plain": [
       "Incident ID            0\n",
       "Incident Date          0\n",
       "state                  0\n",
       "City Or County         0\n",
       "Address            15443\n",
       "n_killed               0\n",
       "n_injured              0\n",
       "Operations        448277\n",
       "dtype: int64"
      ]
     },
     "execution_count": 538,
     "metadata": {},
     "output_type": "execute_result"
    }
   ],
   "source": [
    "gun_data_raw_df.isna().sum()"
   ]
  },
  {
   "cell_type": "code",
   "execution_count": 539,
   "id": "b6890391",
   "metadata": {
    "scrolled": true
   },
   "outputs": [],
   "source": [
    "#gun_data_raw_df"
   ]
  },
  {
   "cell_type": "code",
   "execution_count": 540,
   "id": "7cd649ac",
   "metadata": {},
   "outputs": [],
   "source": [
    "#gun_data_raw_df.groupby['state']"
   ]
  },
  {
   "cell_type": "code",
   "execution_count": 541,
   "id": "6aa1e4ab",
   "metadata": {
    "scrolled": false
   },
   "outputs": [],
   "source": [
    "gun_data_raw_df.drop(['Address','Operations','Incident ID'], axis=1, inplace = True)\n",
    "gun_data_raw_df['Incident Date'] = pd.to_datetime(gun_data_raw_df['Incident Date'])\n",
    "gun_data_raw_df.set_index('Incident Date', inplace=True)\n",
    "gun_data_raw_df.rename(columns={'state': 'State','n_killed': 'People Killed','n_injured': 'People Injured' }, inplace=True)\n",
    "gun_data_raw_yearly_df = gun_data_raw_df.resample('Y').sum()\n",
    "#gun_data_raw_df.rename(columns={'state': 'State','n_killed': 'People Killed','n_injured': 'People Injured' }, inplace=True)\n",
    "#gun_monthly_df = gun_data_raw_df['Incident Date'].resample('MS')\n",
    "#gun_data_raw_df.groupby(['state']).sum()\n",
    "#gun_data_raw_df=gun_data_raw_df.resample('W', on='Incident Date').sum()\n",
    "#gun_data_raw_df.groupby['State']"
   ]
  },
  {
   "cell_type": "markdown",
   "id": "8120b1c3",
   "metadata": {},
   "source": [
    "# Time series for people killed and injured "
   ]
  },
  {
   "cell_type": "code",
   "execution_count": 542,
   "id": "9f34150b",
   "metadata": {
    "scrolled": true
   },
   "outputs": [
    {
     "data": {
      "text/html": [
       "<div>\n",
       "<style scoped>\n",
       "    .dataframe tbody tr th:only-of-type {\n",
       "        vertical-align: middle;\n",
       "    }\n",
       "\n",
       "    .dataframe tbody tr th {\n",
       "        vertical-align: top;\n",
       "    }\n",
       "\n",
       "    .dataframe thead th {\n",
       "        text-align: right;\n",
       "    }\n",
       "</style>\n",
       "<table border=\"1\" class=\"dataframe\">\n",
       "  <thead>\n",
       "    <tr style=\"text-align: right;\">\n",
       "      <th></th>\n",
       "      <th>People Killed</th>\n",
       "      <th>People Injured</th>\n",
       "    </tr>\n",
       "    <tr>\n",
       "      <th>Incident Date</th>\n",
       "      <th></th>\n",
       "      <th></th>\n",
       "    </tr>\n",
       "  </thead>\n",
       "  <tbody>\n",
       "    <tr>\n",
       "      <th>2014-12-31</th>\n",
       "      <td>12348</td>\n",
       "      <td>21866</td>\n",
       "    </tr>\n",
       "    <tr>\n",
       "      <th>2015-12-31</th>\n",
       "      <td>13573</td>\n",
       "      <td>26899</td>\n",
       "    </tr>\n",
       "    <tr>\n",
       "      <th>2016-12-31</th>\n",
       "      <td>15130</td>\n",
       "      <td>30594</td>\n",
       "    </tr>\n",
       "    <tr>\n",
       "      <th>2017-12-31</th>\n",
       "      <td>15733</td>\n",
       "      <td>31364</td>\n",
       "    </tr>\n",
       "    <tr>\n",
       "      <th>2018-12-31</th>\n",
       "      <td>14917</td>\n",
       "      <td>28290</td>\n",
       "    </tr>\n",
       "    <tr>\n",
       "      <th>2019-12-31</th>\n",
       "      <td>15490</td>\n",
       "      <td>30193</td>\n",
       "    </tr>\n",
       "    <tr>\n",
       "      <th>2020-12-31</th>\n",
       "      <td>19517</td>\n",
       "      <td>39532</td>\n",
       "    </tr>\n",
       "    <tr>\n",
       "      <th>2021-12-31</th>\n",
       "      <td>20936</td>\n",
       "      <td>40579</td>\n",
       "    </tr>\n",
       "    <tr>\n",
       "      <th>2022-12-31</th>\n",
       "      <td>8962</td>\n",
       "      <td>16937</td>\n",
       "    </tr>\n",
       "  </tbody>\n",
       "</table>\n",
       "</div>"
      ],
      "text/plain": [
       "               People Killed  People Injured\n",
       "Incident Date                               \n",
       "2014-12-31             12348           21866\n",
       "2015-12-31             13573           26899\n",
       "2016-12-31             15130           30594\n",
       "2017-12-31             15733           31364\n",
       "2018-12-31             14917           28290\n",
       "2019-12-31             15490           30193\n",
       "2020-12-31             19517           39532\n",
       "2021-12-31             20936           40579\n",
       "2022-12-31              8962           16937"
      ]
     },
     "execution_count": 542,
     "metadata": {},
     "output_type": "execute_result"
    }
   ],
   "source": [
    "gun_data_raw_yearly_df\n"
   ]
  },
  {
   "cell_type": "code",
   "execution_count": 543,
   "id": "f024570f",
   "metadata": {},
   "outputs": [
    {
     "data": {
      "text/html": [
       "<div>\n",
       "<style scoped>\n",
       "    .dataframe tbody tr th:only-of-type {\n",
       "        vertical-align: middle;\n",
       "    }\n",
       "\n",
       "    .dataframe tbody tr th {\n",
       "        vertical-align: top;\n",
       "    }\n",
       "\n",
       "    .dataframe thead th {\n",
       "        text-align: right;\n",
       "    }\n",
       "</style>\n",
       "<table border=\"1\" class=\"dataframe\">\n",
       "  <thead>\n",
       "    <tr style=\"text-align: right;\">\n",
       "      <th></th>\n",
       "      <th>State</th>\n",
       "      <th>City Or County</th>\n",
       "      <th>People Killed</th>\n",
       "      <th>People Injured</th>\n",
       "    </tr>\n",
       "    <tr>\n",
       "      <th>Incident Date</th>\n",
       "      <th></th>\n",
       "      <th></th>\n",
       "      <th></th>\n",
       "      <th></th>\n",
       "    </tr>\n",
       "  </thead>\n",
       "  <tbody>\n",
       "    <tr>\n",
       "      <th>2014-01-01</th>\n",
       "      <td>Florida</td>\n",
       "      <td>Orlando</td>\n",
       "      <td>1</td>\n",
       "      <td>1</td>\n",
       "    </tr>\n",
       "    <tr>\n",
       "      <th>2014-01-01</th>\n",
       "      <td>Ohio</td>\n",
       "      <td>Cincinnati</td>\n",
       "      <td>1</td>\n",
       "      <td>0</td>\n",
       "    </tr>\n",
       "    <tr>\n",
       "      <th>2014-01-01</th>\n",
       "      <td>California</td>\n",
       "      <td>Glendale</td>\n",
       "      <td>0</td>\n",
       "      <td>1</td>\n",
       "    </tr>\n",
       "    <tr>\n",
       "      <th>2014-01-01</th>\n",
       "      <td>Texas</td>\n",
       "      <td>Hebbronville</td>\n",
       "      <td>0</td>\n",
       "      <td>1</td>\n",
       "    </tr>\n",
       "    <tr>\n",
       "      <th>2014-01-01</th>\n",
       "      <td>New York</td>\n",
       "      <td>Rochester</td>\n",
       "      <td>1</td>\n",
       "      <td>1</td>\n",
       "    </tr>\n",
       "    <tr>\n",
       "      <th>...</th>\n",
       "      <td>...</td>\n",
       "      <td>...</td>\n",
       "      <td>...</td>\n",
       "      <td>...</td>\n",
       "    </tr>\n",
       "    <tr>\n",
       "      <th>2022-06-16</th>\n",
       "      <td>Illinois</td>\n",
       "      <td>Chicago</td>\n",
       "      <td>0</td>\n",
       "      <td>1</td>\n",
       "    </tr>\n",
       "    <tr>\n",
       "      <th>2022-06-16</th>\n",
       "      <td>Illinois</td>\n",
       "      <td>Chicago</td>\n",
       "      <td>0</td>\n",
       "      <td>1</td>\n",
       "    </tr>\n",
       "    <tr>\n",
       "      <th>2022-06-16</th>\n",
       "      <td>Arkansas</td>\n",
       "      <td>Alexander</td>\n",
       "      <td>0</td>\n",
       "      <td>1</td>\n",
       "    </tr>\n",
       "    <tr>\n",
       "      <th>2022-06-16</th>\n",
       "      <td>Kentucky</td>\n",
       "      <td>Hopkinsville</td>\n",
       "      <td>0</td>\n",
       "      <td>0</td>\n",
       "    </tr>\n",
       "    <tr>\n",
       "      <th>2022-06-16</th>\n",
       "      <td>Nebraska</td>\n",
       "      <td>Lincoln</td>\n",
       "      <td>0</td>\n",
       "      <td>1</td>\n",
       "    </tr>\n",
       "  </tbody>\n",
       "</table>\n",
       "<p>448402 rows × 4 columns</p>\n",
       "</div>"
      ],
      "text/plain": [
       "                    State City Or County  People Killed  People Injured\n",
       "Incident Date                                                          \n",
       "2014-01-01        Florida        Orlando              1               1\n",
       "2014-01-01           Ohio     Cincinnati              1               0\n",
       "2014-01-01     California       Glendale              0               1\n",
       "2014-01-01          Texas   Hebbronville              0               1\n",
       "2014-01-01       New York      Rochester              1               1\n",
       "...                   ...            ...            ...             ...\n",
       "2022-06-16       Illinois        Chicago              0               1\n",
       "2022-06-16       Illinois        Chicago              0               1\n",
       "2022-06-16       Arkansas      Alexander              0               1\n",
       "2022-06-16       Kentucky   Hopkinsville              0               0\n",
       "2022-06-16       Nebraska        Lincoln              0               1\n",
       "\n",
       "[448402 rows x 4 columns]"
      ]
     },
     "execution_count": 543,
     "metadata": {},
     "output_type": "execute_result"
    }
   ],
   "source": [
    "gun_data_raw_df"
   ]
  },
  {
   "cell_type": "code",
   "execution_count": 544,
   "id": "df30d4eb",
   "metadata": {},
   "outputs": [
    {
     "data": {
      "text/plain": [
       "Index(['State', 'City Or County', 'People Killed', 'People Injured'], dtype='object')"
      ]
     },
     "execution_count": 544,
     "metadata": {},
     "output_type": "execute_result"
    }
   ],
   "source": [
    "gun_data_raw_df.columns"
   ]
  },
  {
   "cell_type": "code",
   "execution_count": 545,
   "id": "20bb910a",
   "metadata": {},
   "outputs": [
    {
     "data": {
      "text/html": [
       "<div>\n",
       "<style scoped>\n",
       "    .dataframe tbody tr th:only-of-type {\n",
       "        vertical-align: middle;\n",
       "    }\n",
       "\n",
       "    .dataframe tbody tr th {\n",
       "        vertical-align: top;\n",
       "    }\n",
       "\n",
       "    .dataframe thead th {\n",
       "        text-align: right;\n",
       "    }\n",
       "</style>\n",
       "<table border=\"1\" class=\"dataframe\">\n",
       "  <thead>\n",
       "    <tr style=\"text-align: right;\">\n",
       "      <th></th>\n",
       "      <th>State</th>\n",
       "      <th>People Killed</th>\n",
       "      <th>People Injured</th>\n",
       "    </tr>\n",
       "    <tr>\n",
       "      <th>City Or County</th>\n",
       "      <th></th>\n",
       "      <th></th>\n",
       "      <th></th>\n",
       "    </tr>\n",
       "  </thead>\n",
       "  <tbody>\n",
       "    <tr>\n",
       "      <th>Abbeville</th>\n",
       "      <td>97</td>\n",
       "      <td>97</td>\n",
       "      <td>97</td>\n",
       "    </tr>\n",
       "    <tr>\n",
       "      <th>Abbotsford</th>\n",
       "      <td>3</td>\n",
       "      <td>3</td>\n",
       "      <td>3</td>\n",
       "    </tr>\n",
       "    <tr>\n",
       "      <th>Abbott</th>\n",
       "      <td>2</td>\n",
       "      <td>2</td>\n",
       "      <td>2</td>\n",
       "    </tr>\n",
       "    <tr>\n",
       "      <th>Abbottstown</th>\n",
       "      <td>1</td>\n",
       "      <td>1</td>\n",
       "      <td>1</td>\n",
       "    </tr>\n",
       "    <tr>\n",
       "      <th>Abercrombie</th>\n",
       "      <td>1</td>\n",
       "      <td>1</td>\n",
       "      <td>1</td>\n",
       "    </tr>\n",
       "    <tr>\n",
       "      <th>...</th>\n",
       "      <td>...</td>\n",
       "      <td>...</td>\n",
       "      <td>...</td>\n",
       "    </tr>\n",
       "    <tr>\n",
       "      <th>Zolfo Springs</th>\n",
       "      <td>1</td>\n",
       "      <td>1</td>\n",
       "      <td>1</td>\n",
       "    </tr>\n",
       "    <tr>\n",
       "      <th>Zumbro Falls</th>\n",
       "      <td>2</td>\n",
       "      <td>2</td>\n",
       "      <td>2</td>\n",
       "    </tr>\n",
       "    <tr>\n",
       "      <th>Zumbrota</th>\n",
       "      <td>1</td>\n",
       "      <td>1</td>\n",
       "      <td>1</td>\n",
       "    </tr>\n",
       "    <tr>\n",
       "      <th>Zuni</th>\n",
       "      <td>1</td>\n",
       "      <td>1</td>\n",
       "      <td>1</td>\n",
       "    </tr>\n",
       "    <tr>\n",
       "      <th>Zwolle</th>\n",
       "      <td>3</td>\n",
       "      <td>3</td>\n",
       "      <td>3</td>\n",
       "    </tr>\n",
       "  </tbody>\n",
       "</table>\n",
       "<p>14387 rows × 3 columns</p>\n",
       "</div>"
      ],
      "text/plain": [
       "                State  People Killed  People Injured\n",
       "City Or County                                      \n",
       "Abbeville          97             97              97\n",
       "Abbotsford          3              3               3\n",
       "Abbott              2              2               2\n",
       "Abbottstown         1              1               1\n",
       "Abercrombie         1              1               1\n",
       "...               ...            ...             ...\n",
       "Zolfo Springs       1              1               1\n",
       "Zumbro Falls        2              2               2\n",
       "Zumbrota            1              1               1\n",
       "Zuni                1              1               1\n",
       "Zwolle              3              3               3\n",
       "\n",
       "[14387 rows x 3 columns]"
      ]
     },
     "execution_count": 545,
     "metadata": {},
     "output_type": "execute_result"
    }
   ],
   "source": [
    "gun_data_raw_df.groupby(['City Or County']).count()\n",
    "\n",
    "#print(abc)"
   ]
  },
  {
   "cell_type": "code",
   "execution_count": 546,
   "id": "a29f9a5b",
   "metadata": {
    "scrolled": true
   },
   "outputs": [],
   "source": [
    "#gun_data_raw_df.groupby(gun_data_raw_df['Incident Date'].map(lambda x:x.year))"
   ]
  },
  {
   "cell_type": "code",
   "execution_count": 547,
   "id": "8f6eb25d",
   "metadata": {},
   "outputs": [],
   "source": [
    "#state_df=gun_data_raw_df.groupby('state').agg({'n_killed':['sum']}).plot.bar(figsize=(18,10), colormap='summer')\n",
    "#plt.title('People killed by gun incidents of each state between 2014-2022')"
   ]
  },
  {
   "cell_type": "code",
   "execution_count": 548,
   "id": "57418ddb",
   "metadata": {},
   "outputs": [],
   "source": [
    "#gun_data_raw_df.resample('M', on='incident Date')"
   ]
  },
  {
   "cell_type": "code",
   "execution_count": 549,
   "id": "263f8301",
   "metadata": {},
   "outputs": [],
   "source": [
    "#file_path2 = \"\\\\Users\\\\eggfr\\\\Flatiron\\\\Flatiron_phase4_project\\\\CNN_Gun_Image_Classification\\\\HC_folder\\\\data\\\\US Mass Shooting 1966-2019.csv\""
   ]
  },
  {
   "cell_type": "code",
   "execution_count": 550,
   "id": "7211789d",
   "metadata": {},
   "outputs": [],
   "source": [
    "#gun_mass_shooting_df = pd.read_csv(file_path2, encoding= 'unicode_escape')\n",
    "#gun_mass_shooting_df"
   ]
  },
  {
   "cell_type": "code",
   "execution_count": 551,
   "id": "f1dc389b",
   "metadata": {},
   "outputs": [],
   "source": [
    "#gun_mass_shooting_df.isna().sum()"
   ]
  },
  {
   "cell_type": "code",
   "execution_count": 552,
   "id": "d9e5d220",
   "metadata": {},
   "outputs": [],
   "source": [
    "#file_path3 = \"\\\\Users\\\\eggfr\\\\Flatiron\\\\Flatiron_phase4_project\\\\CNN_Gun_Image_Classification\\\\HC_folder\\\\data\\\\US Mass Shooting 2012-2019.csv\""
   ]
  },
  {
   "cell_type": "code",
   "execution_count": 553,
   "id": "c70a792d",
   "metadata": {},
   "outputs": [],
   "source": [
    "#gun_mass_shooting_raw_df = pd.read_csv(file_path2, encoding= 'unicode_escape')\n",
    "#gun_mass_shooting_raw_df.head()"
   ]
  },
  {
   "cell_type": "code",
   "execution_count": 554,
   "id": "04c3af88",
   "metadata": {},
   "outputs": [],
   "source": [
    "#gun_mass_shooting_raw_df.shape"
   ]
  },
  {
   "cell_type": "code",
   "execution_count": 555,
   "id": "4f143064",
   "metadata": {},
   "outputs": [],
   "source": [
    "#gun_mass_shooting_raw_df.isna().sum()"
   ]
  },
  {
   "cell_type": "code",
   "execution_count": null,
   "id": "9994e08d",
   "metadata": {},
   "outputs": [],
   "source": []
  }
 ],
 "metadata": {
  "kernelspec": {
   "display_name": "Python 3 (ipykernel)",
   "language": "python",
   "name": "python3"
  },
  "language_info": {
   "codemirror_mode": {
    "name": "ipython",
    "version": 3
   },
   "file_extension": ".py",
   "mimetype": "text/x-python",
   "name": "python",
   "nbconvert_exporter": "python",
   "pygments_lexer": "ipython3",
   "version": "3.9.12"
  }
 },
 "nbformat": 4,
 "nbformat_minor": 5
}
