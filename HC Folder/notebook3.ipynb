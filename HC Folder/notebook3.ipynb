{
 "cells": [
  {
   "cell_type": "code",
   "execution_count": 1,
   "id": "0af663c9",
   "metadata": {},
   "outputs": [],
   "source": [
    "import pandas as pd\n",
    "import matplotlib.pyplot as plt"
   ]
  },
  {
   "cell_type": "code",
   "execution_count": 2,
   "id": "3fe8b7bc",
   "metadata": {},
   "outputs": [],
   "source": [
    "file_path1 =\"\\\\Users\\\\eggfr\\\\Flatiron\\\\Flatiron_phase4_project\\\\Gun-Image-Classification\\\\HC Folder\\\\data\\\\GunViolenceArchiveDataJan2014toJun2022.csv\""
   ]
  },
  {
   "cell_type": "markdown",
   "id": "5340ed8f",
   "metadata": {},
   "source": [
    "Gun Violence Archive (GVA) is a not for profit corporation formed in 2013 to provide free online public access to accurate information about gun-related violence in the United States. GVA will collect and check for accuracy, comprehensive information about gun-related violence in the U.S. and then post and disseminate it online. We have around 448402 gun incidents in American between 2013 to 2022."
   ]
  },
  {
   "cell_type": "code",
   "execution_count": 3,
   "id": "8e70e11f",
   "metadata": {},
   "outputs": [
    {
     "data": {
      "text/plain": [
       "(448402, 8)"
      ]
     },
     "execution_count": 3,
     "metadata": {},
     "output_type": "execute_result"
    }
   ],
   "source": [
    "gun_data_raw_df = pd.read_csv(file_path1, encoding= 'unicode_escape')\n",
    "gun_data_raw_df.shape"
   ]
  },
  {
   "cell_type": "markdown",
   "id": "6b110cab",
   "metadata": {},
   "source": [
    "Let's check and see if there is any missing data."
   ]
  },
  {
   "cell_type": "code",
   "execution_count": 4,
   "id": "b27e408b",
   "metadata": {
    "scrolled": false
   },
   "outputs": [
    {
     "data": {
      "text/plain": [
       "Incident ID            0\n",
       "Incident Date          0\n",
       "state                  0\n",
       "City Or County         0\n",
       "Address            15443\n",
       "n_killed               0\n",
       "n_injured              0\n",
       "Operations        448277\n",
       "dtype: int64"
      ]
     },
     "execution_count": 4,
     "metadata": {},
     "output_type": "execute_result"
    }
   ],
   "source": [
    "gun_data_raw_df.isna().sum()"
   ]
  },
  {
   "cell_type": "markdown",
   "id": "4c21eed4",
   "metadata": {},
   "source": [
    "Address will not be used in this analysis, and there is too many data missing in the operation column. Let's drop those two columns and also rename some of of the columns as well."
   ]
  },
  {
   "cell_type": "code",
   "execution_count": 5,
   "id": "faea2c24",
   "metadata": {
    "scrolled": true
   },
   "outputs": [],
   "source": [
    "gun_data_raw_df.rename(columns={'Incident Date':'Date','state': 'State','n_killed': 'People Killed','n_injured': 'People Injured' }, inplace=True)\n",
    "gun_data_df = gun_data_raw_df.drop(['Address','Operations','Incident ID'], axis=1)"
   ]
  },
  {
   "cell_type": "code",
   "execution_count": 6,
   "id": "6fffda2f",
   "metadata": {
    "scrolled": false
   },
   "outputs": [
    {
     "data": {
      "text/html": [
       "<div>\n",
       "<style scoped>\n",
       "    .dataframe tbody tr th:only-of-type {\n",
       "        vertical-align: middle;\n",
       "    }\n",
       "\n",
       "    .dataframe tbody tr th {\n",
       "        vertical-align: top;\n",
       "    }\n",
       "\n",
       "    .dataframe thead th {\n",
       "        text-align: right;\n",
       "    }\n",
       "</style>\n",
       "<table border=\"1\" class=\"dataframe\">\n",
       "  <thead>\n",
       "    <tr style=\"text-align: right;\">\n",
       "      <th></th>\n",
       "      <th>Date</th>\n",
       "      <th>State</th>\n",
       "      <th>City Or County</th>\n",
       "      <th>People Killed</th>\n",
       "      <th>People Injured</th>\n",
       "    </tr>\n",
       "  </thead>\n",
       "  <tbody>\n",
       "    <tr>\n",
       "      <th>0</th>\n",
       "      <td>2014-01-01</td>\n",
       "      <td>Florida</td>\n",
       "      <td>Orlando</td>\n",
       "      <td>1</td>\n",
       "      <td>1</td>\n",
       "    </tr>\n",
       "    <tr>\n",
       "      <th>1</th>\n",
       "      <td>2014-01-01</td>\n",
       "      <td>Ohio</td>\n",
       "      <td>Cincinnati</td>\n",
       "      <td>1</td>\n",
       "      <td>0</td>\n",
       "    </tr>\n",
       "    <tr>\n",
       "      <th>2</th>\n",
       "      <td>2014-01-01</td>\n",
       "      <td>California</td>\n",
       "      <td>Glendale</td>\n",
       "      <td>0</td>\n",
       "      <td>1</td>\n",
       "    </tr>\n",
       "    <tr>\n",
       "      <th>3</th>\n",
       "      <td>2014-01-01</td>\n",
       "      <td>Texas</td>\n",
       "      <td>Hebbronville</td>\n",
       "      <td>0</td>\n",
       "      <td>1</td>\n",
       "    </tr>\n",
       "    <tr>\n",
       "      <th>4</th>\n",
       "      <td>2014-01-01</td>\n",
       "      <td>New York</td>\n",
       "      <td>Rochester</td>\n",
       "      <td>1</td>\n",
       "      <td>1</td>\n",
       "    </tr>\n",
       "  </tbody>\n",
       "</table>\n",
       "</div>"
      ],
      "text/plain": [
       "         Date       State City Or County  People Killed  People Injured\n",
       "0  2014-01-01     Florida        Orlando              1               1\n",
       "1  2014-01-01        Ohio     Cincinnati              1               0\n",
       "2  2014-01-01  California       Glendale              0               1\n",
       "3  2014-01-01       Texas   Hebbronville              0               1\n",
       "4  2014-01-01    New York      Rochester              1               1"
      ]
     },
     "execution_count": 6,
     "metadata": {},
     "output_type": "execute_result"
    }
   ],
   "source": [
    "gun_data_df.head()"
   ]
  },
  {
   "cell_type": "markdown",
   "id": "87459009",
   "metadata": {},
   "source": [
    "Californa, Texas, Florida and Illionis are the top 4 states with the most people killed with gun incidents."
   ]
  },
  {
   "cell_type": "code",
   "execution_count": 7,
   "id": "babf1ba7",
   "metadata": {
    "scrolled": false
   },
   "outputs": [
    {
     "data": {
      "text/plain": [
       "Text(0.5, 0, 'Number of People')"
      ]
     },
     "execution_count": 7,
     "metadata": {},
     "output_type": "execute_result"
    },
    {
     "data": {
      "image/png": "[encoded data removed]",
      "text/plain": [
       "<Figure size 1296x720 with 1 Axes>"
      ]
     },
     "metadata": {
      "needs_background": "light"
     },
     "output_type": "display_data"
    }
   ],
   "source": [
    "# plot number of people Killed by gun incidents between 2014 to 2022 by each state\n",
    "plt.style.use('bmh')\n",
    "order_df = gun_data_df.groupby('State').agg({'People Killed':['sum']}).plot.barh(figsize=(18,10), colormap='summer')\n",
    "plt.title('Number of People Killed by Gun Incidents between 2014 to 2022 by Each State', weight = \"bold\", fontsize = 15)\n",
    "plt.xticks(rotation=40)\n",
    "plt.xlabel('Number of People', weight = \"bold\", fontsize = 12)\n"
   ]
  },
  {
   "cell_type": "markdown",
   "id": "99a0e3ad",
   "metadata": {},
   "source": [
    "Californa, Texas, Florida and Illionis are the top 4 states with the most people killed with gun incidents. Let's investigate this a little bit further with popoulation density and income."
   ]
  },
  {
   "cell_type": "markdown",
   "id": "4f83904e",
   "metadata": {},
   "source": [
    "#  Death and injury by state"
   ]
  },
  {
   "cell_type": "code",
   "execution_count": 8,
   "id": "03a1dc88",
   "metadata": {},
   "outputs": [
    {
     "data": {
      "text/html": [
       "<div>\n",
       "<style scoped>\n",
       "    .dataframe tbody tr th:only-of-type {\n",
       "        vertical-align: middle;\n",
       "    }\n",
       "\n",
       "    .dataframe tbody tr th {\n",
       "        vertical-align: top;\n",
       "    }\n",
       "\n",
       "    .dataframe thead th {\n",
       "        text-align: right;\n",
       "    }\n",
       "</style>\n",
       "<table border=\"1\" class=\"dataframe\">\n",
       "  <thead>\n",
       "    <tr style=\"text-align: right;\">\n",
       "      <th></th>\n",
       "      <th>Date</th>\n",
       "      <th>State</th>\n",
       "      <th>People Killed</th>\n",
       "      <th>People Injured</th>\n",
       "    </tr>\n",
       "  </thead>\n",
       "  <tbody>\n",
       "    <tr>\n",
       "      <th>0</th>\n",
       "      <td>2014-12-31</td>\n",
       "      <td>Alabama</td>\n",
       "      <td>314</td>\n",
       "      <td>560</td>\n",
       "    </tr>\n",
       "    <tr>\n",
       "      <th>1</th>\n",
       "      <td>2014-12-31</td>\n",
       "      <td>Alaska</td>\n",
       "      <td>29</td>\n",
       "      <td>48</td>\n",
       "    </tr>\n",
       "    <tr>\n",
       "      <th>2</th>\n",
       "      <td>2014-12-31</td>\n",
       "      <td>Arizona</td>\n",
       "      <td>219</td>\n",
       "      <td>215</td>\n",
       "    </tr>\n",
       "    <tr>\n",
       "      <th>3</th>\n",
       "      <td>2014-12-31</td>\n",
       "      <td>Arkansas</td>\n",
       "      <td>165</td>\n",
       "      <td>222</td>\n",
       "    </tr>\n",
       "    <tr>\n",
       "      <th>4</th>\n",
       "      <td>2014-12-31</td>\n",
       "      <td>California</td>\n",
       "      <td>1303</td>\n",
       "      <td>1565</td>\n",
       "    </tr>\n",
       "    <tr>\n",
       "      <th>...</th>\n",
       "      <td>...</td>\n",
       "      <td>...</td>\n",
       "      <td>...</td>\n",
       "      <td>...</td>\n",
       "    </tr>\n",
       "    <tr>\n",
       "      <th>454</th>\n",
       "      <td>2022-12-31</td>\n",
       "      <td>Virginia</td>\n",
       "      <td>248</td>\n",
       "      <td>527</td>\n",
       "    </tr>\n",
       "    <tr>\n",
       "      <th>455</th>\n",
       "      <td>2022-12-31</td>\n",
       "      <td>Washington</td>\n",
       "      <td>149</td>\n",
       "      <td>247</td>\n",
       "    </tr>\n",
       "    <tr>\n",
       "      <th>456</th>\n",
       "      <td>2022-12-31</td>\n",
       "      <td>West Virginia</td>\n",
       "      <td>37</td>\n",
       "      <td>54</td>\n",
       "    </tr>\n",
       "    <tr>\n",
       "      <th>457</th>\n",
       "      <td>2022-12-31</td>\n",
       "      <td>Wisconsin</td>\n",
       "      <td>171</td>\n",
       "      <td>433</td>\n",
       "    </tr>\n",
       "    <tr>\n",
       "      <th>458</th>\n",
       "      <td>2022-12-31</td>\n",
       "      <td>Wyoming</td>\n",
       "      <td>7</td>\n",
       "      <td>4</td>\n",
       "    </tr>\n",
       "  </tbody>\n",
       "</table>\n",
       "<p>459 rows × 4 columns</p>\n",
       "</div>"
      ],
      "text/plain": [
       "          Date          State  People Killed  People Injured\n",
       "0   2014-12-31        Alabama            314             560\n",
       "1   2014-12-31         Alaska             29              48\n",
       "2   2014-12-31        Arizona            219             215\n",
       "3   2014-12-31       Arkansas            165             222\n",
       "4   2014-12-31     California           1303            1565\n",
       "..         ...            ...            ...             ...\n",
       "454 2022-12-31       Virginia            248             527\n",
       "455 2022-12-31     Washington            149             247\n",
       "456 2022-12-31  West Virginia             37              54\n",
       "457 2022-12-31      Wisconsin            171             433\n",
       "458 2022-12-31        Wyoming              7               4\n",
       "\n",
       "[459 rows x 4 columns]"
      ]
     },
     "execution_count": 8,
     "metadata": {},
     "output_type": "execute_result"
    }
   ],
   "source": [
    "gun_data_df.Date = pd.DatetimeIndex(gun_data_df.Date)\n",
    "state_df = gun_data_df.set_index(\"Date\").groupby([pd.Grouper(freq=\"Y\"), \"State\"]).sum().reset_index()\n",
    "state_df"
   ]
  },
  {
   "cell_type": "markdown",
   "id": "510fbf56",
   "metadata": {
    "scrolled": false
   },
   "source": [
    "Let investigate the population data in 2018 https://www.kaggle.com/datasets/lucasvictor/us-state-populations-2018 . Also, poverty data data and annual income data for each state are gathered from this obesity study. https://www.kaggle.com/datasets/annedunn/obesity-and-gdp-rates-from-50-states-in-20142017 "
   ]
  },
  {
   "cell_type": "code",
   "execution_count": 9,
   "id": "f495973e",
   "metadata": {},
   "outputs": [],
   "source": [
    "file_path2 =\"\\\\Users\\\\eggfr\\\\Flatiron\\\\Flatiron_phase4_project\\\\Gun-Image-Classification\\\\HC Folder\\\\data\\\\2019_Census_US_Population_Data.csv\""
   ]
  },
  {
   "cell_type": "code",
   "execution_count": 10,
   "id": "340b42fb",
   "metadata": {},
   "outputs": [],
   "source": [
    "file_path3 = \"\\\\Users\\\\eggfr\\\\Flatiron\\\\Flatiron_phase4_project\\\\Gun-Image-Classification\\\\HC Folder\\\\data\\\\2017GDP_Data.csv\""
   ]
  },
  {
   "cell_type": "markdown",
   "id": "33a10093",
   "metadata": {},
   "source": [
    "Population data for each state for 2018, and the first 5 row is shown."
   ]
  },
  {
   "cell_type": "code",
   "execution_count": 11,
   "id": "7f18612b",
   "metadata": {
    "scrolled": true
   },
   "outputs": [
    {
     "data": {
      "text/html": [
       "<div>\n",
       "<style scoped>\n",
       "    .dataframe tbody tr th:only-of-type {\n",
       "        vertical-align: middle;\n",
       "    }\n",
       "\n",
       "    .dataframe tbody tr th {\n",
       "        vertical-align: top;\n",
       "    }\n",
       "\n",
       "    .dataframe thead th {\n",
       "        text-align: right;\n",
       "    }\n",
       "</style>\n",
       "<table border=\"1\" class=\"dataframe\">\n",
       "  <thead>\n",
       "    <tr style=\"text-align: right;\">\n",
       "      <th></th>\n",
       "      <th>State</th>\n",
       "      <th>Population</th>\n",
       "    </tr>\n",
       "  </thead>\n",
       "  <tbody>\n",
       "    <tr>\n",
       "      <th>0</th>\n",
       "      <td>Alabama</td>\n",
       "      <td>4903185</td>\n",
       "    </tr>\n",
       "    <tr>\n",
       "      <th>1</th>\n",
       "      <td>Alaska</td>\n",
       "      <td>731545</td>\n",
       "    </tr>\n",
       "    <tr>\n",
       "      <th>2</th>\n",
       "      <td>Arizona</td>\n",
       "      <td>7278717</td>\n",
       "    </tr>\n",
       "    <tr>\n",
       "      <th>3</th>\n",
       "      <td>Arkansas</td>\n",
       "      <td>3017804</td>\n",
       "    </tr>\n",
       "    <tr>\n",
       "      <th>4</th>\n",
       "      <td>California</td>\n",
       "      <td>39512223</td>\n",
       "    </tr>\n",
       "  </tbody>\n",
       "</table>\n",
       "</div>"
      ],
      "text/plain": [
       "        State  Population\n",
       "0     Alabama     4903185\n",
       "1      Alaska      731545\n",
       "2     Arizona     7278717\n",
       "3    Arkansas     3017804\n",
       "4  California    39512223"
      ]
     },
     "execution_count": 11,
     "metadata": {},
     "output_type": "execute_result"
    }
   ],
   "source": [
    "population2018_raw_df = pd.read_csv(file_path2, encoding= 'unicode_escape')\n",
    "population2018_raw_df.rename(columns={\n",
    "'STATE':'State','POPESTIMATE2019':'Population'}, inplace=True)\n",
    "population2018_df = population2018_raw_df.drop(['lat','long'], axis=1)\n",
    "population2018_df.head()"
   ]
  },
  {
   "cell_type": "markdown",
   "id": "581deab7",
   "metadata": {},
   "source": [
    "Average Income and poverty rate for each state for 2017, and the first 5 row is shown."
   ]
  },
  {
   "cell_type": "code",
   "execution_count": 12,
   "id": "ee7725ba",
   "metadata": {
    "scrolled": true
   },
   "outputs": [
    {
     "data": {
      "text/html": [
       "<div>\n",
       "<style scoped>\n",
       "    .dataframe tbody tr th:only-of-type {\n",
       "        vertical-align: middle;\n",
       "    }\n",
       "\n",
       "    .dataframe tbody tr th {\n",
       "        vertical-align: top;\n",
       "    }\n",
       "\n",
       "    .dataframe thead th {\n",
       "        text-align: right;\n",
       "    }\n",
       "</style>\n",
       "<table border=\"1\" class=\"dataframe\">\n",
       "  <thead>\n",
       "    <tr style=\"text-align: right;\">\n",
       "      <th></th>\n",
       "      <th>State</th>\n",
       "      <th>Poverty.Rate*100</th>\n",
       "      <th>Average.Income</th>\n",
       "    </tr>\n",
       "  </thead>\n",
       "  <tbody>\n",
       "    <tr>\n",
       "      <th>3</th>\n",
       "      <td>Alabama</td>\n",
       "      <td>16.89</td>\n",
       "      <td>26471.72046</td>\n",
       "    </tr>\n",
       "    <tr>\n",
       "      <th>7</th>\n",
       "      <td>Alaska</td>\n",
       "      <td>11.11</td>\n",
       "      <td>34438.53759</td>\n",
       "    </tr>\n",
       "    <tr>\n",
       "      <th>11</th>\n",
       "      <td>Arizona</td>\n",
       "      <td>14.86</td>\n",
       "      <td>29420.61094</td>\n",
       "    </tr>\n",
       "    <tr>\n",
       "      <th>15</th>\n",
       "      <td>Arkansas</td>\n",
       "      <td>16.40</td>\n",
       "      <td>25272.81432</td>\n",
       "    </tr>\n",
       "    <tr>\n",
       "      <th>19</th>\n",
       "      <td>California</td>\n",
       "      <td>13.30</td>\n",
       "      <td>35128.22756</td>\n",
       "    </tr>\n",
       "  </tbody>\n",
       "</table>\n",
       "</div>"
      ],
      "text/plain": [
       "         State  Poverty.Rate*100  Average.Income\n",
       "3      Alabama             16.89     26471.72046\n",
       "7       Alaska             11.11     34438.53759\n",
       "11     Arizona             14.86     29420.61094\n",
       "15    Arkansas             16.40     25272.81432\n",
       "19  California             13.30     35128.22756"
      ]
     },
     "execution_count": 12,
     "metadata": {},
     "output_type": "execute_result"
    }
   ],
   "source": [
    "obesity_df = pd.read_csv(file_path3, encoding= 'unicode_escape')\n",
    "abcd=obesity_df.query('Year == 2017')\n",
    "gdp_df = abcd[['State','Poverty.Rate*100','Average.Income']]\n",
    "gdp_df.head()"
   ]
  },
  {
   "cell_type": "markdown",
   "id": "01c49e8f",
   "metadata": {},
   "source": [
    "People that are killed and injured in 2017 from the GVA dataset."
   ]
  },
  {
   "cell_type": "code",
   "execution_count": 13,
   "id": "ae100955",
   "metadata": {
    "scrolled": true
   },
   "outputs": [
    {
     "name": "stderr",
     "output_type": "stream",
     "text": [
      "C:\\Users\\eggfr\\AppData\\Local\\Temp\\ipykernel_24540\\485564796.py:2: SettingWithCopyWarning: \n",
      "A value is trying to be set on a copy of a slice from a DataFrame.\n",
      "Try using .loc[row_indexer,col_indexer] = value instead\n",
      "\n",
      "See the caveats in the documentation: https://pandas.pydata.org/pandas-docs/stable/user_guide/indexing.html#returning-a-view-versus-a-copy\n",
      "  state_2017_raw_df['Total Incident'] = state_2017_raw_df['People Killed']+state_2017_raw_df['People Killed']\n"
     ]
    },
    {
     "data": {
      "text/html": [
       "<div>\n",
       "<style scoped>\n",
       "    .dataframe tbody tr th:only-of-type {\n",
       "        vertical-align: middle;\n",
       "    }\n",
       "\n",
       "    .dataframe tbody tr th {\n",
       "        vertical-align: top;\n",
       "    }\n",
       "\n",
       "    .dataframe thead th {\n",
       "        text-align: right;\n",
       "    }\n",
       "</style>\n",
       "<table border=\"1\" class=\"dataframe\">\n",
       "  <thead>\n",
       "    <tr style=\"text-align: right;\">\n",
       "      <th></th>\n",
       "      <th>Date</th>\n",
       "      <th>State</th>\n",
       "      <th>People Killed</th>\n",
       "      <th>People Injured</th>\n",
       "      <th>Total Incident</th>\n",
       "    </tr>\n",
       "  </thead>\n",
       "  <tbody>\n",
       "    <tr>\n",
       "      <th>153</th>\n",
       "      <td>2017-12-31</td>\n",
       "      <td>Alabama</td>\n",
       "      <td>547</td>\n",
       "      <td>859</td>\n",
       "      <td>1094</td>\n",
       "    </tr>\n",
       "    <tr>\n",
       "      <th>154</th>\n",
       "      <td>2017-12-31</td>\n",
       "      <td>Alaska</td>\n",
       "      <td>71</td>\n",
       "      <td>68</td>\n",
       "      <td>142</td>\n",
       "    </tr>\n",
       "    <tr>\n",
       "      <th>155</th>\n",
       "      <td>2017-12-31</td>\n",
       "      <td>Arizona</td>\n",
       "      <td>289</td>\n",
       "      <td>300</td>\n",
       "      <td>578</td>\n",
       "    </tr>\n",
       "    <tr>\n",
       "      <th>156</th>\n",
       "      <td>2017-12-31</td>\n",
       "      <td>Arkansas</td>\n",
       "      <td>215</td>\n",
       "      <td>444</td>\n",
       "      <td>430</td>\n",
       "    </tr>\n",
       "    <tr>\n",
       "      <th>157</th>\n",
       "      <td>2017-12-31</td>\n",
       "      <td>California</td>\n",
       "      <td>1427</td>\n",
       "      <td>1951</td>\n",
       "      <td>2854</td>\n",
       "    </tr>\n",
       "  </tbody>\n",
       "</table>\n",
       "</div>"
      ],
      "text/plain": [
       "          Date       State  People Killed  People Injured  Total Incident\n",
       "153 2017-12-31     Alabama            547             859            1094\n",
       "154 2017-12-31      Alaska             71              68             142\n",
       "155 2017-12-31     Arizona            289             300             578\n",
       "156 2017-12-31    Arkansas            215             444             430\n",
       "157 2017-12-31  California           1427            1951            2854"
      ]
     },
     "execution_count": 13,
     "metadata": {},
     "output_type": "execute_result"
    }
   ],
   "source": [
    "state_2017_raw_df = state_df[(state_df['Date'] > '2017-12-01') & (state_df['Date'] < '2018-5-31')]\n",
    "state_2017_raw_df['Total Incident'] = state_2017_raw_df['People Killed']+state_2017_raw_df['People Killed']\n",
    "state_2017_raw_df.head()"
   ]
  },
  {
   "cell_type": "markdown",
   "id": "33b468d6",
   "metadata": {},
   "source": [
    "We will combine all 3 tables into 1 tables, and people killed per population and total incident per population for each state is also calculated."
   ]
  },
  {
   "cell_type": "code",
   "execution_count": 14,
   "id": "9815e51e",
   "metadata": {
    "scrolled": true
   },
   "outputs": [],
   "source": [
    "combine_df = pd.merge(population2018_df,gdp_df, left_on ='State',right_on ='State')\n"
   ]
  },
  {
   "cell_type": "code",
   "execution_count": 15,
   "id": "949c26a7",
   "metadata": {
    "scrolled": true
   },
   "outputs": [
    {
     "data": {
      "text/html": [
       "<div>\n",
       "<style scoped>\n",
       "    .dataframe tbody tr th:only-of-type {\n",
       "        vertical-align: middle;\n",
       "    }\n",
       "\n",
       "    .dataframe tbody tr th {\n",
       "        vertical-align: top;\n",
       "    }\n",
       "\n",
       "    .dataframe thead th {\n",
       "        text-align: right;\n",
       "    }\n",
       "</style>\n",
       "<table border=\"1\" class=\"dataframe\">\n",
       "  <thead>\n",
       "    <tr style=\"text-align: right;\">\n",
       "      <th></th>\n",
       "      <th>Year</th>\n",
       "      <th>State</th>\n",
       "      <th>People Killed</th>\n",
       "      <th>People Injured</th>\n",
       "      <th>Total Incident</th>\n",
       "      <th>Population</th>\n",
       "      <th>Poverty.Rate*100</th>\n",
       "      <th>Average.Income</th>\n",
       "      <th>Death Per Capita</th>\n",
       "      <th>Incidents Per Capita</th>\n",
       "    </tr>\n",
       "  </thead>\n",
       "  <tbody>\n",
       "    <tr>\n",
       "      <th>0</th>\n",
       "      <td>2017</td>\n",
       "      <td>Alabama</td>\n",
       "      <td>547</td>\n",
       "      <td>859</td>\n",
       "      <td>1094</td>\n",
       "      <td>4903185</td>\n",
       "      <td>16.89</td>\n",
       "      <td>26471.72046</td>\n",
       "      <td>0.000112</td>\n",
       "      <td>0.000223</td>\n",
       "    </tr>\n",
       "    <tr>\n",
       "      <th>1</th>\n",
       "      <td>2017</td>\n",
       "      <td>Alaska</td>\n",
       "      <td>71</td>\n",
       "      <td>68</td>\n",
       "      <td>142</td>\n",
       "      <td>731545</td>\n",
       "      <td>11.11</td>\n",
       "      <td>34438.53759</td>\n",
       "      <td>0.000097</td>\n",
       "      <td>0.000194</td>\n",
       "    </tr>\n",
       "    <tr>\n",
       "      <th>2</th>\n",
       "      <td>2017</td>\n",
       "      <td>Arizona</td>\n",
       "      <td>289</td>\n",
       "      <td>300</td>\n",
       "      <td>578</td>\n",
       "      <td>7278717</td>\n",
       "      <td>14.86</td>\n",
       "      <td>29420.61094</td>\n",
       "      <td>0.000040</td>\n",
       "      <td>0.000079</td>\n",
       "    </tr>\n",
       "    <tr>\n",
       "      <th>3</th>\n",
       "      <td>2017</td>\n",
       "      <td>Arkansas</td>\n",
       "      <td>215</td>\n",
       "      <td>444</td>\n",
       "      <td>430</td>\n",
       "      <td>3017804</td>\n",
       "      <td>16.40</td>\n",
       "      <td>25272.81432</td>\n",
       "      <td>0.000071</td>\n",
       "      <td>0.000142</td>\n",
       "    </tr>\n",
       "    <tr>\n",
       "      <th>4</th>\n",
       "      <td>2017</td>\n",
       "      <td>California</td>\n",
       "      <td>1427</td>\n",
       "      <td>1951</td>\n",
       "      <td>2854</td>\n",
       "      <td>39512223</td>\n",
       "      <td>13.30</td>\n",
       "      <td>35128.22756</td>\n",
       "      <td>0.000036</td>\n",
       "      <td>0.000072</td>\n",
       "    </tr>\n",
       "  </tbody>\n",
       "</table>\n",
       "</div>"
      ],
      "text/plain": [
       "   Year       State  People Killed  People Injured  Total Incident  \\\n",
       "0  2017     Alabama            547             859            1094   \n",
       "1  2017      Alaska             71              68             142   \n",
       "2  2017     Arizona            289             300             578   \n",
       "3  2017    Arkansas            215             444             430   \n",
       "4  2017  California           1427            1951            2854   \n",
       "\n",
       "   Population  Poverty.Rate*100  Average.Income  Death Per Capita  \\\n",
       "0     4903185             16.89     26471.72046          0.000112   \n",
       "1      731545             11.11     34438.53759          0.000097   \n",
       "2     7278717             14.86     29420.61094          0.000040   \n",
       "3     3017804             16.40     25272.81432          0.000071   \n",
       "4    39512223             13.30     35128.22756          0.000036   \n",
       "\n",
       "   Incidents Per Capita  \n",
       "0              0.000223  \n",
       "1              0.000194  \n",
       "2              0.000079  \n",
       "3              0.000142  \n",
       "4              0.000072  "
      ]
     },
     "execution_count": 15,
     "metadata": {},
     "output_type": "execute_result"
    }
   ],
   "source": [
    "state_2017_df = pd.merge(state_2017_raw_df,combine_df, left_on ='State',right_on ='State')\n",
    "state_2017_df ['Death Per Capita'] = state_2017_df ['People Killed']/state_2017_df ['Population']\n",
    "state_2017_df ['Incidents Per Capita'] = state_2017_df ['Total Incident']/state_2017_df ['Population']\n",
    "state_2017_df['Date'] = pd.DatetimeIndex(state_2017_df['Date']).year\n",
    "state_2017_df.rename(columns={'Date':'Year'},inplace = True)\n",
    "state_2017_df.head()\n"
   ]
  },
  {
   "cell_type": "code",
   "execution_count": 21,
   "id": "ac43bcd5",
   "metadata": {},
   "outputs": [],
   "source": [
    "# save the data in csv\n",
    "state_2017_df.to_csv('table_Kill_Per_capita.csv')"
   ]
  },
  {
   "cell_type": "markdown",
   "id": "91270863",
   "metadata": {},
   "source": [
    "It seems like state with lower average income and higher poverty rate has a higher Death per Capita and total incident per capita."
   ]
  },
  {
   "cell_type": "code",
   "execution_count": 17,
   "id": "c780f352",
   "metadata": {
    "scrolled": true
   },
   "outputs": [
    {
     "data": {
      "text/html": [
       "<div>\n",
       "<style scoped>\n",
       "    .dataframe tbody tr th:only-of-type {\n",
       "        vertical-align: middle;\n",
       "    }\n",
       "\n",
       "    .dataframe tbody tr th {\n",
       "        vertical-align: top;\n",
       "    }\n",
       "\n",
       "    .dataframe thead th {\n",
       "        text-align: right;\n",
       "    }\n",
       "</style>\n",
       "<table border=\"1\" class=\"dataframe\">\n",
       "  <thead>\n",
       "    <tr style=\"text-align: right;\">\n",
       "      <th></th>\n",
       "      <th>Year</th>\n",
       "      <th>State</th>\n",
       "      <th>People Killed</th>\n",
       "      <th>People Injured</th>\n",
       "      <th>Total Incident</th>\n",
       "      <th>Population</th>\n",
       "      <th>Poverty.Rate*100</th>\n",
       "      <th>Average.Income</th>\n",
       "      <th>Death Per Capita</th>\n",
       "      <th>Incidents Per Capita</th>\n",
       "    </tr>\n",
       "  </thead>\n",
       "  <tbody>\n",
       "    <tr>\n",
       "      <th>17</th>\n",
       "      <td>2017</td>\n",
       "      <td>Louisiana</td>\n",
       "      <td>557</td>\n",
       "      <td>1188</td>\n",
       "      <td>1114</td>\n",
       "      <td>4648794</td>\n",
       "      <td>19.75</td>\n",
       "      <td>26010.45294</td>\n",
       "      <td>0.000120</td>\n",
       "      <td>0.000240</td>\n",
       "    </tr>\n",
       "    <tr>\n",
       "      <th>0</th>\n",
       "      <td>2017</td>\n",
       "      <td>Alabama</td>\n",
       "      <td>547</td>\n",
       "      <td>859</td>\n",
       "      <td>1094</td>\n",
       "      <td>4903185</td>\n",
       "      <td>16.89</td>\n",
       "      <td>26471.72046</td>\n",
       "      <td>0.000112</td>\n",
       "      <td>0.000223</td>\n",
       "    </tr>\n",
       "    <tr>\n",
       "      <th>23</th>\n",
       "      <td>2017</td>\n",
       "      <td>Mississippi</td>\n",
       "      <td>327</td>\n",
       "      <td>592</td>\n",
       "      <td>654</td>\n",
       "      <td>2976149</td>\n",
       "      <td>19.77</td>\n",
       "      <td>23124.98023</td>\n",
       "      <td>0.000110</td>\n",
       "      <td>0.000220</td>\n",
       "    </tr>\n",
       "    <tr>\n",
       "      <th>24</th>\n",
       "      <td>2017</td>\n",
       "      <td>Missouri</td>\n",
       "      <td>613</td>\n",
       "      <td>925</td>\n",
       "      <td>1226</td>\n",
       "      <td>6137428</td>\n",
       "      <td>13.42</td>\n",
       "      <td>29469.19863</td>\n",
       "      <td>0.000100</td>\n",
       "      <td>0.000200</td>\n",
       "    </tr>\n",
       "    <tr>\n",
       "      <th>1</th>\n",
       "      <td>2017</td>\n",
       "      <td>Alaska</td>\n",
       "      <td>71</td>\n",
       "      <td>68</td>\n",
       "      <td>142</td>\n",
       "      <td>731545</td>\n",
       "      <td>11.11</td>\n",
       "      <td>34438.53759</td>\n",
       "      <td>0.000097</td>\n",
       "      <td>0.000194</td>\n",
       "    </tr>\n",
       "  </tbody>\n",
       "</table>\n",
       "</div>"
      ],
      "text/plain": [
       "    Year        State  People Killed  People Injured  Total Incident  \\\n",
       "17  2017    Louisiana            557            1188            1114   \n",
       "0   2017      Alabama            547             859            1094   \n",
       "23  2017  Mississippi            327             592             654   \n",
       "24  2017     Missouri            613             925            1226   \n",
       "1   2017       Alaska             71              68             142   \n",
       "\n",
       "    Population  Poverty.Rate*100  Average.Income  Death Per Capita  \\\n",
       "17     4648794             19.75     26010.45294          0.000120   \n",
       "0      4903185             16.89     26471.72046          0.000112   \n",
       "23     2976149             19.77     23124.98023          0.000110   \n",
       "24     6137428             13.42     29469.19863          0.000100   \n",
       "1       731545             11.11     34438.53759          0.000097   \n",
       "\n",
       "    Incidents Per Capita  \n",
       "17              0.000240  \n",
       "0               0.000223  \n",
       "23              0.000220  \n",
       "24              0.000200  \n",
       "1               0.000194  "
      ]
     },
     "execution_count": 17,
     "metadata": {},
     "output_type": "execute_result"
    }
   ],
   "source": [
    "state_2017_df.sort_values('Death Per Capita', ascending=False).head()\n"
   ]
  },
  {
   "cell_type": "code",
   "execution_count": 18,
   "id": "cbd26742",
   "metadata": {
    "scrolled": true
   },
   "outputs": [
    {
     "data": {
      "text/plain": [
       "13.0606"
      ]
     },
     "execution_count": 18,
     "metadata": {},
     "output_type": "execute_result"
    }
   ],
   "source": [
    "state_2017_df['Poverty.Rate*100'].mean()"
   ]
  },
  {
   "cell_type": "code",
   "execution_count": null,
   "id": "b05c8498",
   "metadata": {},
   "outputs": [],
   "source": [
    "file_path3 = \"\\\\Users\\\\eggfr\\\\Flatiron\\\\Flatiron_phase4_project\\\\Gun-Image-Classification\\\\HC Folder\\\\\""
   ]
  },
  {
   "cell_type": "markdown",
   "id": "553db64e",
   "metadata": {},
   "source": [
    "# Time series for people killed and injured between 2014 to 2022"
   ]
  },
  {
   "cell_type": "code",
   "execution_count": 19,
   "id": "aed84f78",
   "metadata": {},
   "outputs": [
    {
     "data": {
      "text/html": [
       "<div>\n",
       "<style scoped>\n",
       "    .dataframe tbody tr th:only-of-type {\n",
       "        vertical-align: middle;\n",
       "    }\n",
       "\n",
       "    .dataframe tbody tr th {\n",
       "        vertical-align: top;\n",
       "    }\n",
       "\n",
       "    .dataframe thead th {\n",
       "        text-align: right;\n",
       "    }\n",
       "</style>\n",
       "<table border=\"1\" class=\"dataframe\">\n",
       "  <thead>\n",
       "    <tr style=\"text-align: right;\">\n",
       "      <th></th>\n",
       "      <th>People Killed</th>\n",
       "      <th>People Injured</th>\n",
       "    </tr>\n",
       "    <tr>\n",
       "      <th>Date</th>\n",
       "      <th></th>\n",
       "      <th></th>\n",
       "    </tr>\n",
       "  </thead>\n",
       "  <tbody>\n",
       "    <tr>\n",
       "      <th>2014-01-05</th>\n",
       "      <td>177</td>\n",
       "      <td>352</td>\n",
       "    </tr>\n",
       "    <tr>\n",
       "      <th>2014-01-12</th>\n",
       "      <td>198</td>\n",
       "      <td>356</td>\n",
       "    </tr>\n",
       "    <tr>\n",
       "      <th>2014-01-19</th>\n",
       "      <td>253</td>\n",
       "      <td>419</td>\n",
       "    </tr>\n",
       "    <tr>\n",
       "      <th>2014-01-26</th>\n",
       "      <td>252</td>\n",
       "      <td>365</td>\n",
       "    </tr>\n",
       "    <tr>\n",
       "      <th>2014-02-02</th>\n",
       "      <td>241</td>\n",
       "      <td>329</td>\n",
       "    </tr>\n",
       "    <tr>\n",
       "      <th>...</th>\n",
       "      <td>...</td>\n",
       "      <td>...</td>\n",
       "    </tr>\n",
       "    <tr>\n",
       "      <th>2022-05-22</th>\n",
       "      <td>410</td>\n",
       "      <td>756</td>\n",
       "    </tr>\n",
       "    <tr>\n",
       "      <th>2022-05-29</th>\n",
       "      <td>382</td>\n",
       "      <td>796</td>\n",
       "    </tr>\n",
       "    <tr>\n",
       "      <th>2022-06-05</th>\n",
       "      <td>450</td>\n",
       "      <td>937</td>\n",
       "    </tr>\n",
       "    <tr>\n",
       "      <th>2022-06-12</th>\n",
       "      <td>388</td>\n",
       "      <td>786</td>\n",
       "    </tr>\n",
       "    <tr>\n",
       "      <th>2022-06-19</th>\n",
       "      <td>139</td>\n",
       "      <td>290</td>\n",
       "    </tr>\n",
       "  </tbody>\n",
       "</table>\n",
       "<p>442 rows × 2 columns</p>\n",
       "</div>"
      ],
      "text/plain": [
       "            People Killed  People Injured\n",
       "Date                                     \n",
       "2014-01-05            177             352\n",
       "2014-01-12            198             356\n",
       "2014-01-19            253             419\n",
       "2014-01-26            252             365\n",
       "2014-02-02            241             329\n",
       "...                   ...             ...\n",
       "2022-05-22            410             756\n",
       "2022-05-29            382             796\n",
       "2022-06-05            450             937\n",
       "2022-06-12            388             786\n",
       "2022-06-19            139             290\n",
       "\n",
       "[442 rows x 2 columns]"
      ]
     },
     "execution_count": 19,
     "metadata": {},
     "output_type": "execute_result"
    }
   ],
   "source": [
    "gun_data_time_series_df = gun_data_raw_df.drop(['Address','Operations','Incident ID'], axis=1)\n",
    "gun_data_time_series_df['Date'] = pd.to_datetime(gun_data_time_series_df['Date'])\n",
    "gun_data_time_series_df.set_index('Date', inplace=True)\n",
    "gun_data_time_series_df.rename(columns={'state': 'State','n_killed': 'People Killed','n_injured': 'People Injured' }, inplace=True)\n",
    "gun_data_time_series_df = gun_data_time_series_df.resample('W').sum()\n",
    "gun_data_time_series_df \n"
   ]
  },
  {
   "cell_type": "markdown",
   "id": "8c66ae37",
   "metadata": {},
   "source": [
    "Time Series Plot of people killed, people injurded between 2014-2021. "
   ]
  },
  {
   "cell_type": "markdown",
   "id": "43770d33",
   "metadata": {},
   "source": [
    "There is an upward trend for both for the recent years."
   ]
  },
  {
   "cell_type": "code",
   "execution_count": 20,
   "id": "aee0e35d",
   "metadata": {
    "scrolled": true
   },
   "outputs": [
    {
     "data": {
      "text/plain": [
       "Text(0, 0.5, 'Number of People')"
      ]
     },
     "execution_count": 20,
     "metadata": {},
     "output_type": "execute_result"
    },
    {
     "data": {
      "image/png": "[encoded data removed]",
      "text/plain": [
       "<Figure size 864x432 with 1 Axes>"
      ]
     },
     "metadata": {
      "needs_background": "light"
     },
     "output_type": "display_data"
    }
   ],
   "source": [
    "#fig, ax = plt.subplots(figsize=(12, 6))\n",
    "plt.style.use('bmh')\n",
    "gun_data_time_series_df.plot(figsize=(12,6), colormap='Dark2')\n",
    "plt.title('People Killed and Peole Injured between 2014 to 2022', weight = \"bold\", fontsize = 15)\n",
    "plt.xlabel('Year', weight = \"bold\", fontsize = 12)\n",
    "plt.ylabel('Number of People', weight = \"bold\", fontsize = 12)"
   ]
  },
  {
   "cell_type": "code",
   "execution_count": null,
   "id": "8d07102f",
   "metadata": {},
   "outputs": [],
   "source": []
  },
  {
   "cell_type": "code",
   "execution_count": null,
   "id": "d43f652d",
   "metadata": {},
   "outputs": [],
   "source": []
  }
 ],
 "metadata": {
  "kernelspec": {
   "display_name": "Python 3 (ipykernel)",
   "language": "python",
   "name": "python3"
  },
  "language_info": {
   "codemirror_mode": {
    "name": "ipython",
    "version": 3
   },
   "file_extension": ".py",
   "mimetype": "text/x-python",
   "name": "python",
   "nbconvert_exporter": "python",
   "pygments_lexer": "ipython3",
   "version": "3.9.12"
  }
 },
 "nbformat": 4,
 "nbformat_minor": 5
}
